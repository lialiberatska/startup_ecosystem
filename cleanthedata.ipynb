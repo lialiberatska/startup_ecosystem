{
 "cells": [
  {
   "cell_type": "code",
   "execution_count": 14,
   "id": "85b3055a-0a25-44b1-a823-10aec25241b8",
   "metadata": {},
   "outputs": [
    {
     "name": "stdout",
     "output_type": "stream",
     "text": [
      "/Users/julia/Downloads\n"
     ]
    }
   ],
   "source": [
    "import os\n",
    "\n",
    "path = os.getcwd()\n",
    "\n",
    "print(path)"
   ]
  },
  {
   "cell_type": "code",
   "execution_count": 3,
   "id": "edf5fec4-2431-49af-9194-805be0cb742d",
   "metadata": {},
   "outputs": [],
   "source": [
    "os.chdir('/Users/julia/Downloads/')"
   ]
  },
  {
   "cell_type": "code",
   "execution_count": 4,
   "id": "1e318eb9-3604-46a9-a1f2-83d8e6df0c44",
   "metadata": {},
   "outputs": [
    {
     "name": "stdout",
     "output_type": "stream",
     "text": [
      "/Users/julia/Downloads\n"
     ]
    }
   ],
   "source": [
    "path = os.getcwd()\n",
    "\n",
    "print(path)"
   ]
  },
  {
   "cell_type": "code",
   "execution_count": 9,
   "id": "9e80ebe2-8746-44bb-8e1f-acd2da0a7081",
   "metadata": {},
   "outputs": [
    {
     "name": "stdout",
     "output_type": "stream",
     "text": [
      "permalink                0\n",
      "name                     1\n",
      "homepage_url          5058\n",
      "category_list         3148\n",
      "funding_total_usd        0\n",
      "status                   0\n",
      "country_code          6958\n",
      "state_code            8547\n",
      "region                8030\n",
      "city                  8028\n",
      "funding_rounds           0\n",
      "founded_at           15221\n",
      "first_funding_at        24\n",
      "last_funding_at          0\n",
      "dtype: int64\n"
     ]
    }
   ],
   "source": [
    "import pandas as pd\n",
    "\n",
    "# Load the dataset\n",
    "df = pd.read_csv('big_startup_secsees_dataset.csv')\n",
    "\n",
    "# Check for missing values\n",
    "print(df.isnull().sum())"
   ]
  },
  {
   "cell_type": "code",
   "execution_count": 11,
   "id": "a8c24d7a-fb83-440a-b4c0-b81c4d56e477",
   "metadata": {},
   "outputs": [],
   "source": [
    "df = df.dropna()"
   ]
  },
  {
   "cell_type": "code",
   "execution_count": 13,
   "id": "b53c656b-070d-4430-beda-2e0f07cd6992",
   "metadata": {},
   "outputs": [
    {
     "name": "stdout",
     "output_type": "stream",
     "text": [
      "permalink            0\n",
      "name                 0\n",
      "homepage_url         0\n",
      "category_list        0\n",
      "funding_total_usd    0\n",
      "status               0\n",
      "country_code         0\n",
      "state_code           0\n",
      "region               0\n",
      "city                 0\n",
      "funding_rounds       0\n",
      "founded_at           0\n",
      "first_funding_at     0\n",
      "last_funding_at      0\n",
      "dtype: int64\n"
     ]
    }
   ],
   "source": [
    "print(df.isnull().sum())"
   ]
  },
  {
   "cell_type": "code",
   "execution_count": 15,
   "id": "0c329441-bb54-40e7-8e17-8bf93fa45ba1",
   "metadata": {},
   "outputs": [],
   "source": [
    "df.to_csv('big_startup_success_cleaned_dataset.csv', index=False)"
   ]
  },
  {
   "cell_type": "code",
   "execution_count": null,
   "id": "da1bf37d-a992-44bf-8a03-123fea74a31f",
   "metadata": {},
   "outputs": [],
   "source": []
  }
 ],
 "metadata": {
  "kernelspec": {
   "display_name": "Python 3 (ipykernel)",
   "language": "python",
   "name": "python3"
  },
  "language_info": {
   "codemirror_mode": {
    "name": "ipython",
    "version": 3
   },
   "file_extension": ".py",
   "mimetype": "text/x-python",
   "name": "python",
   "nbconvert_exporter": "python",
   "pygments_lexer": "ipython3",
   "version": "3.9.13"
  }
 },
 "nbformat": 4,
 "nbformat_minor": 5
}
